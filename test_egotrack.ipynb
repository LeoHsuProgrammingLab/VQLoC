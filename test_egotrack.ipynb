{
 "cells": [
  {
   "cell_type": "code",
   "execution_count": 2,
   "metadata": {},
   "outputs": [],
   "source": [
    "import os\n",
    "import pdb\n",
    "\n",
    "import tqdm\n",
    "import random\n",
    "import json\n"
   ]
  },
  {
   "cell_type": "code",
   "execution_count": 35,
   "metadata": {},
   "outputs": [],
   "source": [
    "split_files = {\n",
    "            'train': 'egotracks_train.json',\n",
    "            'val': 'egotracks_val.json',            # there is no test\n",
    "            'test': 'egotracks_challenge_test_unannotated.json'\n",
    "        }\n",
    "meta_dir='/vision/hwjiang/episodic-memory/egotrack/data'\n",
    "data_dir='/vision/hwjiang/episodic-memory/VQ2D/data'\n",
    "split = 'train'"
   ]
  },
  {
   "cell_type": "code",
   "execution_count": 36,
   "metadata": {},
   "outputs": [],
   "source": [
    "anno_processed_path = os.path.join('./data', '{}_egotracks_anno.json'.format(split))\n",
    "target_split_fp = split_files[split]\n",
    "ann_file = os.path.join(meta_dir, target_split_fp)\n",
    "with open(ann_file) as f:\n",
    "    anno_json = json.load(f)"
   ]
  },
  {
   "cell_type": "code",
   "execution_count": 28,
   "metadata": {},
   "outputs": [],
   "source": [
    "def get_query_path(sample):\n",
    "    clip_name = sample['clip_uid']\n",
    "    image_name = int(sample[\"visual_crop\"][\"frame_number\"])# \"{}/frame_{:07d}.jpg\"\n",
    "    #print(clip_name)\n",
    "    image_path = os.path.join(data_dir, 'images_hw', str(clip_name))\n",
    "    image_path = os.path.join(image_path, \"frame_{:07d}.jpg\".format(image_name + 1))\n",
    "    return image_path"
   ]
  },
  {
   "cell_type": "code",
   "execution_count": 37,
   "metadata": {},
   "outputs": [
    {
     "name": "stdout",
     "output_type": "stream",
     "text": [
      "Find 13637 data samples, 13616 valid (query path exist), 497 no lt_track\n"
     ]
    }
   ],
   "source": [
    "annotations, n_samples, n_samples_valid, n_no_lt_track = [], 0, 0, 0\n",
    "for video_data in anno_json['videos']:\n",
    "    for clip_data in video_data['clips']:\n",
    "        for clip_anno in clip_data['annotations']:\n",
    "            for qset_id, qset in clip_anno['query_sets'].items():\n",
    "                if not qset['is_valid']:\n",
    "                    continue\n",
    "                response_track_frame_ids = []\n",
    "                for frame_it in qset['response_track']:\n",
    "                    response_track_frame_ids.append(int(frame_it['frame_number']))\n",
    "                frame_id_min, frame_id_max = min(response_track_frame_ids), max(response_track_frame_ids)\n",
    "                lt_track_frame_ids = []\n",
    "                # print(qset['lt_track'])\n",
    "\n",
    "                if 'lt_track' in qset.keys():\n",
    "                    lt_track = qset['lt_track']\n",
    "                else:\n",
    "                    lt_track = qset['response_track']\n",
    "                    n_no_lt_track += 1\n",
    "                for frame_it in lt_track:\n",
    "                    lt_track_frame_ids.append(int(frame_it['frame_number']))\n",
    "                curr_anno = {\n",
    "                    \"metadata\": {\n",
    "                        \"video_uid\": video_data[\"video_uid\"],\n",
    "                        \"video_start_sec\": clip_data[\"video_start_sec\"],\n",
    "                        \"video_end_sec\": clip_data[\"video_end_sec\"],\n",
    "                        \"clip_fps\": clip_data[\"clip_fps\"],\n",
    "                    },\n",
    "                    \"clip_uid\": clip_data[\"clip_uid\"],\n",
    "                    \"clip_fps\": clip_data[\"clip_fps\"],\n",
    "                    \"query_set\": qset_id,\n",
    "                    \"query_frame\": qset[\"query_frame\"],\n",
    "                    \"response_track\": sorted(qset[\"response_track\"], key=lambda x: x['frame_number']),\n",
    "                    \"response_track_valid_range\": [frame_id_min, frame_id_max], \n",
    "                    \"lt_track\": sorted(lt_track, key=lambda x: x['frame_number']),\n",
    "                    \"lt_track_frame_ids\": sorted(lt_track_frame_ids),\n",
    "                    \"visual_crop\": qset[\"visual_crop\"],\n",
    "                    \"object_title\": qset[\"object_title\"],\n",
    "                    # Assign a unique ID to this annotation for the dataset\n",
    "                    \"dataset_uid\": f\"{split}_{n_samples_valid:010d}\"\n",
    "                }\n",
    "                query_path = get_query_path(curr_anno)\n",
    "                if os.path.isfile(query_path):\n",
    "                    annotations.append(curr_anno)\n",
    "                    n_samples_valid += 1\n",
    "                elif split == 'train' and clip_data[\"clip_uid\"] == '859ed253-d752-4f1b-adc3-c76599117d6e':\n",
    "                    print(query_path, curr_anno['clip_uid'], curr_anno['visual_crop']['frame_number'], curr_anno['visual_crop'])\n",
    "                n_samples += 1\n",
    "print('Find {} data samples, {} valid (query path exist), {} no lt_track'.format(n_samples, n_samples_valid, n_no_lt_track))\n",
    "with open(anno_processed_path, 'w') as ff:\n",
    "    json.dump(annotations, ff)"
   ]
  }
 ],
 "metadata": {
  "kernelspec": {
   "display_name": "vq2d",
   "language": "python",
   "name": "python3"
  },
  "language_info": {
   "codemirror_mode": {
    "name": "ipython",
    "version": 3
   },
   "file_extension": ".py",
   "mimetype": "text/x-python",
   "name": "python",
   "nbconvert_exporter": "python",
   "pygments_lexer": "ipython3",
   "version": "3.8.16"
  },
  "orig_nbformat": 4
 },
 "nbformat": 4,
 "nbformat_minor": 2
}
